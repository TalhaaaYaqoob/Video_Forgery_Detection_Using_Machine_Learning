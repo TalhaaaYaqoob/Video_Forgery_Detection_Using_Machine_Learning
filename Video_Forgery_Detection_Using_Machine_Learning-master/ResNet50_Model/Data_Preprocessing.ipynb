{
 "cells": [
  {
   "cell_type": "code",
   "execution_count": 2,
   "metadata": {},
   "outputs": [],
   "source": [
    "import cv2\n",
    "import matplotlib.pyplot as plt\n",
    "import numpy as np\n",
    "from pathlib import Path"
   ]
  },
  {
   "cell_type": "code",
   "execution_count": 6,
   "metadata": {},
   "outputs": [
    {
     "name": "stdout",
     "output_type": "stream",
     "text": [
      "Collecting numpy==1.8\n",
      "  Downloading numpy-1.8.0.tar.gz (3.8 MB)\n",
      "Note: you may need to restart the kernel to use updated packages.\n"
     ]
    },
    {
     "name": "stderr",
     "output_type": "stream",
     "text": [
      "    ERROR: Command errored out with exit status 1:\n",
      "     command: 'C:\\Users\\talha\\Anaconda3\\python.exe' -c 'import sys, setuptools, tokenize; sys.argv[0] = '\"'\"'C:\\\\Users\\\\talha\\\\AppData\\\\Local\\\\Temp\\\\pip-install-oh0bxruv\\\\numpy\\\\setup.py'\"'\"'; __file__='\"'\"'C:\\\\Users\\\\talha\\\\AppData\\\\Local\\\\Temp\\\\pip-install-oh0bxruv\\\\numpy\\\\setup.py'\"'\"';f=getattr(tokenize, '\"'\"'open'\"'\"', open)(__file__);code=f.read().replace('\"'\"'\\r\\n'\"'\"', '\"'\"'\\n'\"'\"');f.close();exec(compile(code, __file__, '\"'\"'exec'\"'\"'))' egg_info --egg-base 'C:\\Users\\talha\\AppData\\Local\\Temp\\pip-install-oh0bxruv\\numpy\\pip-egg-info'\n",
      "         cwd: C:\\Users\\talha\\AppData\\Local\\Temp\\pip-install-oh0bxruv\\numpy\\\n",
      "    Complete output (122 lines):\n",
      "    'svnversion' is not recognized as an internal or external command,\n",
      "    operable program or batch file.\n",
      "    non-existing path in 'numpy\\\\distutils': 'site.cfg'\n",
      "    F2PY Version 2\n",
      "    blas_opt_info:\n",
      "    blas_mkl_info:\n",
      "      libraries mkl,vml,guide not found in ['C:\\\\Users\\\\talha\\\\Anaconda3\\\\lib', 'C:\\\\', 'C:\\\\Users\\\\talha\\\\Anaconda3\\\\libs']\n",
      "      NOT AVAILABLE\n",
      "    \n",
      "    openblas_info:\n",
      "      libraries openblas not found in ['C:\\\\Users\\\\talha\\\\Anaconda3\\\\lib', 'C:\\\\', 'C:\\\\Users\\\\talha\\\\Anaconda3\\\\libs']\n",
      "      NOT AVAILABLE\n",
      "    \n",
      "    atlas_blas_threads_info:\n",
      "    Setting PTATLAS=ATLAS\n",
      "      libraries ptf77blas,ptcblas,atlas not found in ['C:\\\\Users\\\\talha\\\\Anaconda3\\\\lib', 'C:\\\\', 'C:\\\\Users\\\\talha\\\\Anaconda3\\\\libs']\n",
      "      NOT AVAILABLE\n",
      "    \n",
      "    atlas_blas_info:\n",
      "      libraries f77blas,cblas,atlas not found in ['C:\\\\Users\\\\talha\\\\Anaconda3\\\\lib', 'C:\\\\', 'C:\\\\Users\\\\talha\\\\Anaconda3\\\\libs']\n",
      "      NOT AVAILABLE\n",
      "    \n",
      "    blas_info:\n",
      "      libraries blas not found in ['C:\\\\Users\\\\talha\\\\Anaconda3\\\\lib', 'C:\\\\', 'C:\\\\Users\\\\talha\\\\Anaconda3\\\\libs']\n",
      "      NOT AVAILABLE\n",
      "    \n",
      "    blas_src_info:\n",
      "      NOT AVAILABLE\n",
      "    \n",
      "      NOT AVAILABLE\n",
      "    \n",
      "    'svnversion' is not recognized as an internal or external command,\n",
      "    operable program or batch file.\n",
      "    non-existing path in 'numpy\\\\lib': 'benchmarks'\n",
      "    lapack_opt_info:\n",
      "    lapack_mkl_info:\n",
      "    mkl_info:\n",
      "      libraries mkl,vml,guide not found in ['C:\\\\Users\\\\talha\\\\Anaconda3\\\\lib', 'C:\\\\', 'C:\\\\Users\\\\talha\\\\Anaconda3\\\\libs']\n",
      "      NOT AVAILABLE\n",
      "    \n",
      "      NOT AVAILABLE\n",
      "    \n",
      "    atlas_threads_info:\n",
      "    Setting PTATLAS=ATLAS\n",
      "      libraries ptf77blas,ptcblas,atlas not found in C:\\Users\\talha\\Anaconda3\\lib\n",
      "      libraries lapack_atlas not found in C:\\Users\\talha\\Anaconda3\\lib\n",
      "      libraries ptf77blas,ptcblas,atlas not found in C:\\\n",
      "      libraries lapack_atlas not found in C:\\\n",
      "      libraries ptf77blas,ptcblas,atlas not found in C:\\Users\\talha\\Anaconda3\\libs\n",
      "      libraries lapack_atlas not found in C:\\Users\\talha\\Anaconda3\\libs\n",
      "    <class 'numpy.distutils.system_info.atlas_threads_info'>\n",
      "      NOT AVAILABLE\n",
      "    \n",
      "    atlas_info:\n",
      "      libraries f77blas,cblas,atlas not found in C:\\Users\\talha\\Anaconda3\\lib\n",
      "      libraries lapack_atlas not found in C:\\Users\\talha\\Anaconda3\\lib\n",
      "      libraries f77blas,cblas,atlas not found in C:\\\n",
      "      libraries lapack_atlas not found in C:\\\n",
      "      libraries f77blas,cblas,atlas not found in C:\\Users\\talha\\Anaconda3\\libs\n",
      "      libraries lapack_atlas not found in C:\\Users\\talha\\Anaconda3\\libs\n",
      "    <class 'numpy.distutils.system_info.atlas_info'>\n",
      "      NOT AVAILABLE\n",
      "    \n",
      "    lapack_info:\n",
      "      libraries lapack not found in ['C:\\\\Users\\\\talha\\\\Anaconda3\\\\lib', 'C:\\\\', 'C:\\\\Users\\\\talha\\\\Anaconda3\\\\libs']\n",
      "      NOT AVAILABLE\n",
      "    \n",
      "    lapack_src_info:\n",
      "      NOT AVAILABLE\n",
      "    \n",
      "      NOT AVAILABLE\n",
      "    \n",
      "    running egg_info\n",
      "    running build_src\n",
      "    build_src\n",
      "    building py_modules sources\n",
      "    creating build\n",
      "    creating build\\src.win-amd64-3.7\n",
      "    creating build\\src.win-amd64-3.7\\numpy\n",
      "    creating build\\src.win-amd64-3.7\\numpy\\distutils\n",
      "    building library \"npymath\" sources\n",
      "    No module named 'numpy.distutils._msvccompiler' in numpy.distutils; trying from distutils\n",
      "    Running from numpy source directory.\n",
      "    C:\\Users\\talha\\AppData\\Local\\Temp\\pip-install-oh0bxruv\\numpy\\numpy\\distutils\\system_info.py:1522: UserWarning:\n",
      "        Atlas (http://math-atlas.sourceforge.net/) libraries not found.\n",
      "        Directories to search for the libraries can be specified in the\n",
      "        numpy/distutils/site.cfg file (section [atlas]) or by setting\n",
      "        the ATLAS environment variable.\n",
      "      warnings.warn(AtlasNotFoundError.__doc__)\n",
      "    C:\\Users\\talha\\AppData\\Local\\Temp\\pip-install-oh0bxruv\\numpy\\numpy\\distutils\\system_info.py:1531: UserWarning:\n",
      "        Blas (http://www.netlib.org/blas/) libraries not found.\n",
      "        Directories to search for the libraries can be specified in the\n",
      "        numpy/distutils/site.cfg file (section [blas]) or by setting\n",
      "        the BLAS environment variable.\n",
      "      warnings.warn(BlasNotFoundError.__doc__)\n",
      "    C:\\Users\\talha\\AppData\\Local\\Temp\\pip-install-oh0bxruv\\numpy\\numpy\\distutils\\system_info.py:1534: UserWarning:\n",
      "        Blas (http://www.netlib.org/blas/) sources not found.\n",
      "        Directories to search for the sources can be specified in the\n",
      "        numpy/distutils/site.cfg file (section [blas_src]) or by setting\n",
      "        the BLAS_SRC environment variable.\n",
      "      warnings.warn(BlasSrcNotFoundError.__doc__)\n",
      "    C:\\Users\\talha\\AppData\\Local\\Temp\\pip-install-oh0bxruv\\numpy\\numpy\\distutils\\system_info.py:1428: UserWarning:\n",
      "        Atlas (http://math-atlas.sourceforge.net/) libraries not found.\n",
      "        Directories to search for the libraries can be specified in the\n",
      "        numpy/distutils/site.cfg file (section [atlas]) or by setting\n",
      "        the ATLAS environment variable.\n",
      "      warnings.warn(AtlasNotFoundError.__doc__)\n",
      "    C:\\Users\\talha\\AppData\\Local\\Temp\\pip-install-oh0bxruv\\numpy\\numpy\\distutils\\system_info.py:1439: UserWarning:\n",
      "        Lapack (http://www.netlib.org/lapack/) libraries not found.\n",
      "        Directories to search for the libraries can be specified in the\n",
      "        numpy/distutils/site.cfg file (section [lapack]) or by setting\n",
      "        the LAPACK environment variable.\n",
      "      warnings.warn(LapackNotFoundError.__doc__)\n",
      "    C:\\Users\\talha\\AppData\\Local\\Temp\\pip-install-oh0bxruv\\numpy\\numpy\\distutils\\system_info.py:1442: UserWarning:\n",
      "        Lapack (http://www.netlib.org/lapack/) sources not found.\n",
      "        Directories to search for the sources can be specified in the\n",
      "        numpy/distutils/site.cfg file (section [lapack_src]) or by setting\n",
      "        the LAPACK_SRC environment variable.\n",
      "      warnings.warn(LapackSrcNotFoundError.__doc__)\n",
      "    C:\\Users\\talha\\Anaconda3\\lib\\distutils\\dist.py:274: UserWarning: Unknown distribution option: 'define_macros'\n",
      "      warnings.warn(msg)\n",
      "    error: Microsoft Visual C++ 14.0 is required. Get it with \"Build Tools for Visual Studio\": https://visualstudio.microsoft.com/downloads/\n",
      "    ----------------------------------------\n",
      "ERROR: Command errored out with exit status 1: python setup.py egg_info Check the logs for full command output.\n"
     ]
    }
   ],
   "source": [
    "pip install numpy==1.8\n"
   ]
  },
  {
   "cell_type": "markdown",
   "metadata": {},
   "source": [
    "# Training Data"
   ]
  },
  {
   "cell_type": "code",
   "execution_count": 5,
   "metadata": {},
   "outputs": [
    {
     "name": "stdout",
     "output_type": "stream",
     "text": [
      "01_forged.mp4\n",
      "Number Of Frames:  210\n",
      "02_forged.mp4\n",
      "Number Of Frames:  329\n",
      "03_forged.mp4\n",
      "Number Of Frames:  313\n",
      "04_forged.mp4\n",
      "Number Of Frames:  319\n",
      "05_forged.mp4\n",
      "Number Of Frames:  583\n",
      "06_forged.mp4\n",
      "Number Of Frames:  262\n",
      "07_forged.mp4\n",
      "Number Of Frames:  412\n",
      "08_forged.mp4\n",
      "Number Of Frames:  274\n",
      "09_forged.mp4\n",
      "Number Of Frames:  554\n",
      "10_forged.mp4\n",
      "Number Of Frames:  239\n",
      "Total Frames in Forked Directory:  3495\n",
      "Total Frames in Original Directory:  0\n"
     ]
    }
   ],
   "source": [
    "p1 = Path('C:\\\\Users\\\\talha\\\\Video_Forgery_Detection_Using_Machine_Learning-master\\\\video_tampering_dataset\\\\videos\\\\Forged')\n",
    "train = []\n",
    "\n",
    "sum1 =0\n",
    "for fvids in p1.glob('*.mp4'):\n",
    "    print(str(fvids).split('\\\\')[-1])\n",
    "    cap= cv2.VideoCapture(str(fvids))\n",
    "    i=0\n",
    "    while(cap.isOpened()):\n",
    "        ret, frame = cap.read()\n",
    "        if ret == False:\n",
    "            break\n",
    "        i+=1\n",
    "        train.append(frame)\n",
    "    sum1 +=i\n",
    "    print(\"Number Of Frames: \",i)\n",
    "    cap.release()\n",
    "    \n",
    "print(\"Total Frames in Forked Directory: \",sum1)\n",
    "p2 = Path('G:/Video_Forgery_Detection_Using_Machine_Learning/video_tampering_dataset/videos/Original')\n",
    "\n",
    "sum2 = 0\n",
    "for ovids in p2.glob('*.mp4'):\n",
    "    print(str(ovids).split('\\\\')[-1])\n",
    "    cap= cv2.VideoCapture(str(ovids))\n",
    "    i=0\n",
    "    while(cap.isOpened()):\n",
    "        ret, frame = cap.read()\n",
    "        if ret == False:\n",
    "            break\n",
    "        i+=1\n",
    "        train.append(frame)\n",
    "    sum2 +=i\n",
    "    print(\"Number Of Frames: \",i)\n",
    "    cap.release()\n",
    "    \n",
    "print(\"Total Frames in Original Directory: \",sum2)"
   ]
  },
  {
   "cell_type": "code",
   "execution_count": 6,
   "metadata": {},
   "outputs": [
    {
     "name": "stdout",
     "output_type": "stream",
     "text": [
      "3495\n"
     ]
    }
   ],
   "source": [
    "print(len(train))"
   ]
  },
  {
   "cell_type": "markdown",
   "metadata": {},
   "source": [
    "# Training Labels"
   ]
  },
  {
   "cell_type": "code",
   "execution_count": 7,
   "metadata": {},
   "outputs": [],
   "source": [
    "def isforged(img):\n",
    "    flag =0\n",
    "    for i in range(img.shape[0]):\n",
    "        for j in range(img.shape[1]):\n",
    "            if img[i][j]==1:\n",
    "                flag =1\n",
    "                break\n",
    "                \n",
    "    if flag ==0: return 0\n",
    "    else: return 1"
   ]
  },
  {
   "cell_type": "code",
   "execution_count": 8,
   "metadata": {},
   "outputs": [],
   "source": [
    "from scipy.io import loadmat"
   ]
  },
  {
   "cell_type": "code",
   "execution_count": 10,
   "metadata": {},
   "outputs": [
    {
     "name": "stdout",
     "output_type": "stream",
     "text": [
      "01_gt.mat\n",
      "Number of Frames:  210\n",
      "02_gt.mat\n",
      "Number of Frames:  329\n",
      "03_gt.mat\n",
      "Number of Frames:  313\n",
      "04_gt.mat\n",
      "Number of Frames:  319\n",
      "05_gt.mat\n",
      "Number of Frames:  583\n",
      "06_gt.mat\n",
      "Number of Frames:  262\n",
      "07_gt.mat\n",
      "Number of Frames:  412\n",
      "08_gt.mat\n",
      "Number of Frames:  274\n",
      "09_gt.mat\n",
      "Number of Frames:  554\n",
      "10_gt.mat\n",
      "Number of Frames:  239\n"
     ]
    }
   ],
   "source": [
    "p3 = Path('C:\\\\Users\\\\talha\\\\Video_Forgery_Detection_Using_Machine_Learning-master\\\\video_tampering_dataset\\\\groundtruth')\n",
    "\n",
    "labels = []\n",
    "for mats in p3.glob('*.mat'):\n",
    "    print(str(mats).split('\\\\')[-1])\n",
    "    mask = loadmat(str(mats))['GT'].reshape((-1,240,320))\n",
    "    print(\"Number of Frames: \",mask.shape[0])\n",
    "    for i in range(mask.shape[0]):\n",
    "        labels.append(isforged(mask[i]))"
   ]
  },
  {
   "cell_type": "code",
   "execution_count": 11,
   "metadata": {},
   "outputs": [
    {
     "name": "stdout",
     "output_type": "stream",
     "text": [
      "3495\n"
     ]
    }
   ],
   "source": [
    "print(len(labels))"
   ]
  },
  {
   "cell_type": "code",
   "execution_count": 8,
   "metadata": {},
   "outputs": [],
   "source": [
    "#print(labels)"
   ]
  },
  {
   "cell_type": "code",
   "execution_count": 12,
   "metadata": {},
   "outputs": [
    {
     "name": "stdout",
     "output_type": "stream",
     "text": [
      "3495\n"
     ]
    }
   ],
   "source": [
    "# Original Data doesn't have any forged frames\n",
    "for i in range(len(train)-len(labels)):\n",
    "    labels.append(0)\n",
    "    \n",
    "print(len(labels))"
   ]
  },
  {
   "cell_type": "markdown",
   "metadata": {},
   "source": [
    "# Shuffle Data"
   ]
  },
  {
   "cell_type": "code",
   "execution_count": 13,
   "metadata": {},
   "outputs": [],
   "source": [
    "import random"
   ]
  },
  {
   "cell_type": "code",
   "execution_count": 14,
   "metadata": {},
   "outputs": [],
   "source": [
    "combined = list(zip(train,labels))\n",
    "random.shuffle(combined)\n",
    "\n",
    "train[:],labels[:] = zip(*combined)"
   ]
  },
  {
   "cell_type": "markdown",
   "metadata": {},
   "source": [
    "# Numpy Conversion"
   ]
  },
  {
   "cell_type": "code",
   "execution_count": 15,
   "metadata": {},
   "outputs": [],
   "source": [
    "# Converting to numpy arrays\n",
    "Xtrain = np.array(train)\n",
    "Ytrain = np.array(labels).astype('float32')"
   ]
  },
  {
   "cell_type": "code",
   "execution_count": 16,
   "metadata": {},
   "outputs": [
    {
     "name": "stdout",
     "output_type": "stream",
     "text": [
      "(3495, 240, 320, 3)\n",
      "(3495,)\n"
     ]
    }
   ],
   "source": [
    "print(Xtrain.shape)\n",
    "print(Ytrain.shape)"
   ]
  },
  {
   "cell_type": "code",
   "execution_count": 18,
   "metadata": {},
   "outputs": [
    {
     "name": "stdout",
     "output_type": "stream",
     "text": [
      "1.0\n"
     ]
    }
   ],
   "source": [
    "print(Ytrain[180])"
   ]
  },
  {
   "cell_type": "markdown",
   "metadata": {},
   "source": [
    "# Saving Processed Data"
   ]
  },
  {
   "cell_type": "code",
   "execution_count": 19,
   "metadata": {},
   "outputs": [],
   "source": [
    "np.save(\"C:\\\\Users\\\\talha\\\\Video_Forgery_Detection_Using_Machine_Learning-master\\\\video_tampering_dataset\\\\Xtrain.npy\",Xtrain)"
   ]
  },
  {
   "cell_type": "code",
   "execution_count": 20,
   "metadata": {},
   "outputs": [],
   "source": [
    "np.save(\"C:\\\\Users\\\\talha\\\\Video_Forgery_Detection_Using_Machine_Learning-master\\\\video_tampering_dataset\\\\Ytrain.npy\",Ytrain)"
   ]
  }
 ],
 "metadata": {
  "kernelspec": {
   "display_name": "Python 3",
   "language": "python",
   "name": "python3"
  },
  "language_info": {
   "codemirror_mode": {
    "name": "ipython",
    "version": 3
   },
   "file_extension": ".py",
   "mimetype": "text/x-python",
   "name": "python",
   "nbconvert_exporter": "python",
   "pygments_lexer": "ipython3",
   "version": "3.7.3"
  }
 },
 "nbformat": 4,
 "nbformat_minor": 4
}
