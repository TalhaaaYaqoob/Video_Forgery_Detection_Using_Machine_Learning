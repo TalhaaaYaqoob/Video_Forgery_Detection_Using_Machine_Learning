{
 "cells": [
  {
   "cell_type": "code",
   "execution_count": 1,
   "metadata": {},
   "outputs": [
    {
     "name": "stderr",
     "output_type": "stream",
     "text": [
      "Using TensorFlow backend.\n"
     ]
    }
   ],
   "source": [
    "import numpy as np\n",
    "import matplotlib.pyplot as plt\n",
    "from keras.models import load_model"
   ]
  },
  {
   "cell_type": "code",
   "execution_count": 2,
   "metadata": {},
   "outputs": [],
   "source": [
    "Xtest = np.load(\"C:\\\\Users\\\\talha\\\\Video_Forgery_Detection_Using_Machine_Learning-master\\\\video_tampering_dataset\\\\Xtrain.npy\")\n",
    "Ytest = np.load(\"C:\\\\Users\\\\talha\\\\Video_Forgery_Detection_Using_Machine_Learning-master\\\\video_tampering_dataset\\\\Ytrain.npy\")"
   ]
  },
  {
   "cell_type": "code",
   "execution_count": 3,
   "metadata": {
    "scrolled": true
   },
   "outputs": [
    {
     "name": "stdout",
     "output_type": "stream",
     "text": [
      "(3495, 240, 320, 3)\n",
      "(3495,)\n"
     ]
    }
   ],
   "source": [
    "print(Xtest.shape)\n",
    "print(Ytest.shape)"
   ]
  },
  {
   "cell_type": "code",
   "execution_count": 4,
   "metadata": {},
   "outputs": [],
   "source": [
    "model = load_model(\"C:\\\\Users\\\\talha\\\\Video_Forgery_Detection_Using_Machine_Learning-master\\\\ResNet50_Model\\\\forgery_model.hdf5\")"
   ]
  },
  {
   "cell_type": "code",
   "execution_count": 5,
   "metadata": {},
   "outputs": [],
   "source": [
    "outputs = model.predict(Xtest)"
   ]
  },
  {
   "cell_type": "code",
   "execution_count": 7,
   "metadata": {},
   "outputs": [
    {
     "name": "stdout",
     "output_type": "stream",
     "text": [
      "(3495,)\n"
     ]
    }
   ],
   "source": [
    "outputs = outputs.reshape((-1))\n",
    "print(outputs.shape)"
   ]
  },
  {
   "cell_type": "code",
   "execution_count": 8,
   "metadata": {},
   "outputs": [],
   "source": [
    "for i in range(outputs.shape[0]):\n",
    "    if outputs[i] > 0.5:\n",
    "        outputs[i] = 1\n",
    "    else:\n",
    "        outputs[i] = 0"
   ]
  },
  {
   "cell_type": "code",
   "execution_count": 9,
   "metadata": {},
   "outputs": [
    {
     "name": "stdout",
     "output_type": "stream",
     "text": [
      "[0. 1. 1. ... 1. 0. 0.]\n"
     ]
    }
   ],
   "source": [
    "print(outputs)"
   ]
  },
  {
   "cell_type": "code",
   "execution_count": 10,
   "metadata": {},
   "outputs": [
    {
     "name": "stdout",
     "output_type": "stream",
     "text": [
      "Test Accuracy =  0.6600858369098712\n"
     ]
    }
   ],
   "source": [
    "positiveCount = 0\n",
    "for i in range(Xtest.shape[0]):\n",
    "    if outputs[i] == Ytest[i]:\n",
    "        positiveCount +=1\n",
    "\n",
    "print(\"Test Accuracy = \",positiveCount/Ytest.shape[0])"
   ]
  },
  {
   "cell_type": "code",
   "execution_count": 12,
   "metadata": {},
   "outputs": [],
   "source": [
    "from sklearn.metrics import classification_report,confusion_matrix\n",
    "from visualize import plot_confusion_matrix"
   ]
  },
  {
   "cell_type": "code",
   "execution_count": 13,
   "metadata": {},
   "outputs": [
    {
     "name": "stdout",
     "output_type": "stream",
     "text": [
      "              precision    recall  f1-score   support\n",
      "\n",
      "         0.0       1.00      0.60      0.75      2962\n",
      "         1.0       0.31      1.00      0.47       533\n",
      "\n",
      "    accuracy                           0.66      3495\n",
      "   macro avg       0.65      0.80      0.61      3495\n",
      "weighted avg       0.89      0.66      0.71      3495\n",
      "\n"
     ]
    }
   ],
   "source": [
    "print(classification_report(outputs,Ytest))"
   ]
  },
  {
   "cell_type": "code",
   "execution_count": 14,
   "metadata": {},
   "outputs": [
    {
     "name": "stdout",
     "output_type": "stream",
     "text": [
      "[[1776 1186]\n",
      " [   2  531]]\n"
     ]
    }
   ],
   "source": [
    "cnf_matrix = confusion_matrix(outputs,Ytest)\n",
    "print(cnf_matrix)"
   ]
  },
  {
   "cell_type": "code",
   "execution_count": 15,
   "metadata": {},
   "outputs": [
    {
     "name": "stdout",
     "output_type": "stream",
     "text": [
      "Confusion matrix, without normalization\n",
      "[[1776 1186]\n",
      " [   2  531]]\n"
     ]
    },
    {
     "data": {
      "image/png": "[encoded data removed]",
      "text/plain": [
       "<Figure size 432x288 with 2 Axes>"
      ]
     },
     "metadata": {},
     "output_type": "display_data"
    }
   ],
   "source": [
    "plt.style.use('dark_background')\n",
    "plot_confusion_matrix(cnf_matrix,classes = [\"Original\",\"Forged\"],title=\"Confusion Matrix\")"
   ]
  },
  {
   "cell_type": "code",
   "execution_count": null,
   "metadata": {},
   "outputs": [],
   "source": []
  }
 ],
 "metadata": {
  "kernelspec": {
   "display_name": "Python 3",
   "language": "python",
   "name": "python3"
  },
  "language_info": {
   "codemirror_mode": {
    "name": "ipython",
    "version": 3
   },
   "file_extension": ".py",
   "mimetype": "text/x-python",
   "name": "python",
   "nbconvert_exporter": "python",
   "pygments_lexer": "ipython3",
   "version": "3.7.3"
  }
 },
 "nbformat": 4,
 "nbformat_minor": 4
}
